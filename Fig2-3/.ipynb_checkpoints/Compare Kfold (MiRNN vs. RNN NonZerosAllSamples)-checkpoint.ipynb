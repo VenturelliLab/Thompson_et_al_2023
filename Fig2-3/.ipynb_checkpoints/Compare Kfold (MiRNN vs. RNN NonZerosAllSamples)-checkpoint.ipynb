{
 "cells": [
  {
   "cell_type": "code",
   "execution_count": 1,
   "id": "65c4dbc5",
   "metadata": {},
   "outputs": [],
   "source": [
    "import pandas as pd\n",
    "import numpy as np\n",
    "\n",
    "from scipy.stats import linregress, binom\n",
    "from sklearn.metrics import mean_squared_error as mse\n",
    "from scipy.stats import ttest_rel\n",
    "import matplotlib.pyplot as plt \n",
    "\n",
    "# use colorblind friendly palette \n",
    "plt.style.use('seaborn-colorblind')\n",
    "plt.rcParams['pdf.fonttype'] = 42"
   ]
  },
  {
   "cell_type": "code",
   "execution_count": 2,
   "id": "89bf9256",
   "metadata": {},
   "outputs": [
    {
     "data": {
      "text/plain": [
       "array(['PC_OD', 'PJ_OD', 'BV_OD', 'BF_OD', 'BO_OD', 'BT_OD', 'BC_OD',\n",
       "       'BY_OD', 'BU_OD', 'DP_OD', 'BL_OD', 'BA_OD', 'BP_OD', 'CA_OD',\n",
       "       'EL_OD', 'FP_OD', 'CH_OD', 'AC_OD', 'BH_OD', 'CG_OD', 'ER_OD',\n",
       "       'RI_OD', 'CC_OD', 'DL_OD', 'DF_OD', 'Butyrate', 'Acetate',\n",
       "       'Lactate', 'Succinate'], dtype=object)"
      ]
     },
     "execution_count": 2,
     "metadata": {},
     "output_type": "execute_result"
    }
   ],
   "source": [
    "models = ['LSTM', 'MCR', 'RNN', 'MiRNN']\n",
    "n_splits = [20]\n",
    "n_trials = 10\n",
    "\n",
    "# specify species and metabolite names \n",
    "df = pd.read_csv(\"../Data/2021_02_19_MultifunctionalDynamicData.csv\")\n",
    "sys_vars = df.columns.values[2:]\n",
    "species = df.columns.values[2:-4]\n",
    "metabolites =  df.columns.values[-4:]\n",
    "controls = []\n",
    "system_variables = np.concatenate((np.array(species), np.array(metabolites)))\n",
    "system_variables"
   ]
  },
  {
   "cell_type": "code",
   "execution_count": 86,
   "id": "42c3013b",
   "metadata": {
    "scrolled": true
   },
   "outputs": [],
   "source": [
    "err_dict = {}\n",
    "\n",
    "for model in models:\n",
    "    \n",
    "    # for each k fold \n",
    "    for n_split in n_splits:\n",
    "        \n",
    "        # set up list of errs for all variables\n",
    "        all_err_values = []\n",
    "        \n",
    "        # for each output\n",
    "        for i, variable in enumerate(species):\n",
    "        \n",
    "            # record avg performance over all trials\n",
    "            err_values = 0.\n",
    "        \n",
    "            # for each k-fold trial \n",
    "            for k in range(n_trials):\n",
    "\n",
    "                # import prediction results\n",
    "                df_kfold = pd.read_csv(f\"Kfold/{model}_{n_split}_fold_{k+1}.csv\").sort_values(by=[\"Experiments\", \"Time\"])\n",
    "\n",
    "                # if species was present at time zero, record true and predicted values at time 48 \n",
    "                y = []\n",
    "                y_pred = []\n",
    "                for exp_name, exp_df in df_kfold.groupby(\"Experiments\"):\n",
    "                    if model != \"LSTM\":\n",
    "                        true_vals = exp_df[variable + \" true\"].values\n",
    "                    else:\n",
    "                        true_vals = exp_df[variable].values\n",
    "                    pred_vals = exp_df[variable + \" pred\"].values\n",
    "                    \n",
    "                    # if the species was inoculated \n",
    "                    if true_vals[0] > 0:\n",
    "                        y.append(true_vals[-1])\n",
    "                        y_pred.append(pred_vals[-1])\n",
    "                y = np.array(y)\n",
    "                y_pred = np.array(y_pred)\n",
    "\n",
    "                # record absolute error\n",
    "                err_values += (y-y_pred) / n_trials\n",
    "            \n",
    "            # append to all err values \n",
    "            all_err_values.append(err_values)\n",
    "\n",
    "        # save scores\n",
    "        err_dict[model] = np.concatenate(all_err_values)"
   ]
  },
  {
   "cell_type": "markdown",
   "id": "7abb2ce4",
   "metadata": {},
   "source": [
    "###  Sign test\n",
    "\n",
    "- A non-parametric test to compare the medians of two paired samples\n",
    "- Makes no assumption about the underlying distribution of the data\n",
    "- The null hypothesis is that the two sets of paired samples have the same median\n",
    "- Given two sets of paired samples, compute the test statistic: the number of pairs where the value of a sample in the first set is greater than the sample in the second set\n",
    "- The p-value of the test statistic is the sum of probabilities corresponding to all possible test statistics that are at least as extreme as the test statistic.\n",
    "\n",
    "For example, given two sets each with 10 paired samples and a test statistic of 9, the p-value is the probability of observing that 9 out of the 10 samples in the first set were greater than the corresponding samples in the second set assuming a 50% chance that a sample in the first set is greater than the corresponding sample in the second set. The p-value is therefore the sum of the probability of observing 9 out of 10 instances where the sample in set 1 was greater than the sample in set 2 plus the probability of observing 10 out of 10 instances where the sample in set 1 was greater than the sample in set 2, assuming a 50/50 chance that a sample in set 1 will be greater than a sample in set 2. The binomial distribution can be used to compute these probabilities.\n",
    "\n",
    "While the Mann Whitney U test could also be used, an assumption of the Mann Whitney U test is that the distribution of the differences between the two samples is symmetric around zero, which is not the case here."
   ]
  },
  {
   "cell_type": "markdown",
   "id": "51bbf3dc",
   "metadata": {},
   "source": [
    "### Compare MSE of all species predictions"
   ]
  },
  {
   "cell_type": "code",
   "execution_count": 88,
   "id": "90c42665",
   "metadata": {},
   "outputs": [
    {
     "data": {
      "text/plain": [
       "0.13781536529606267"
      ]
     },
     "execution_count": 88,
     "metadata": {},
     "output_type": "execute_result"
    }
   ],
   "source": [
    "# performance of MiRNN\n",
    "y_err = err_dict['MiRNN']\n",
    "\n",
    "# performance of competing model \n",
    "y_err_c = err_dict['LSTM']\n",
    "\n",
    "# calculate differences between the paired samples\n",
    "differences = [e1-e2 for (e1, e2) in zip(y_err, y_err_c)]\n",
    "\n",
    "# number of times MiRNN outperforms competing model \n",
    "# count number of times d < 0 since error should be lower\n",
    "test_statistic = sum(1 for d in differences if d < 0)\n",
    "\n",
    "# calculate p-value from binomial distribution \n",
    "p_value = binom.sf(test_statistic - 1, len(differences), 0.5)\n",
    "\n",
    "p_value"
   ]
  },
  {
   "cell_type": "code",
   "execution_count": 93,
   "id": "e917a56d",
   "metadata": {},
   "outputs": [
    {
     "data": {
      "image/png": "[encoded data removed]",
      "text/plain": [
       "<Figure size 640x480 with 1 Axes>"
      ]
     },
     "metadata": {},
     "output_type": "display_data"
    }
   ],
   "source": [
    "plt.hist(y_err)\n",
    "plt.hist(y_err_c, alpha=.7)\n",
    "plt.yscale(\"log\")\n",
    "plt.show()"
   ]
  },
  {
   "cell_type": "code",
   "execution_count": 90,
   "id": "cb3fc6a6",
   "metadata": {},
   "outputs": [
    {
     "data": {
      "text/plain": [
       "1.0"
      ]
     },
     "execution_count": 90,
     "metadata": {},
     "output_type": "execute_result"
    }
   ],
   "source": [
    "# performance of MiRNN\n",
    "y_err = err_dict['MiRNN']\n",
    "\n",
    "# performance of competing model \n",
    "y_err_c = err_dict['MCR']\n",
    "\n",
    "# calculate differences between the paired samples\n",
    "differences = [e1-e2 for (e1, e2) in zip(y_err, y_err_c)]\n",
    "\n",
    "# number of times MiRNN outperforms competing model \n",
    "# count number of times d < 0 since error should be lower\n",
    "test_statistic = sum(1 for d in differences if d < 0)\n",
    "\n",
    "# calculate p-value from binomial distribution \n",
    "p_value = binom.sf(test_statistic - 1, len(differences), 0.5)\n",
    "\n",
    "p_value"
   ]
  },
  {
   "cell_type": "code",
   "execution_count": 92,
   "id": "7ef2a4b9",
   "metadata": {},
   "outputs": [
    {
     "data": {
      "text/plain": [
       "4.850910649616236e-06"
      ]
     },
     "execution_count": 92,
     "metadata": {},
     "output_type": "execute_result"
    }
   ],
   "source": [
    "# performance of MiRNN\n",
    "y_err = err_dict['MiRNN']\n",
    "\n",
    "# performance of competing model \n",
    "y_err_c = err_dict['RNN']\n",
    "\n",
    "# calculate differences between the paired samples\n",
    "differences = [e1-e2 for (e1, e2) in zip(y_err, y_err_c)]\n",
    "\n",
    "# number of times MiRNN outperforms competing model \n",
    "# count number of times d < 0 since error should be lower\n",
    "test_statistic = sum(1 for d in differences if d < 0)\n",
    "\n",
    "# calculate p-value from binomial distribution \n",
    "p_value = binom.sf(test_statistic - 1, len(differences), 0.5)\n",
    "\n",
    "p_value"
   ]
  }
 ],
 "metadata": {
  "kernelspec": {
   "display_name": "Python 3 (ipykernel)",
   "language": "python",
   "name": "python3"
  },
  "language_info": {
   "codemirror_mode": {
    "name": "ipython",
    "version": 3
   },
   "file_extension": ".py",
   "mimetype": "text/x-python",
   "name": "python",
   "nbconvert_exporter": "python",
   "pygments_lexer": "ipython3",
   "version": "3.9.13"
  }
 },
 "nbformat": 4,
 "nbformat_minor": 5
}
