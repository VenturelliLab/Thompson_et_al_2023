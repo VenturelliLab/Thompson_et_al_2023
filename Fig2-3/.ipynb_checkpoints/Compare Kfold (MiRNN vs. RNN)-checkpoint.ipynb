{
 "cells": [
  {
   "cell_type": "code",
   "execution_count": 11,
   "metadata": {},
   "outputs": [],
   "source": [
    "import pandas as pd\n",
    "import numpy as np\n",
    "\n",
    "from scipy.stats import linregress\n",
    "from sklearn.metrics import mean_squared_error as mse\n",
    "from scipy.stats import ttest_rel\n",
    "\n",
    "import matplotlib.pyplot as plt \n",
    "\n",
    "# set plot parameters\n",
    "params = {'legend.fontsize': 18,\n",
    "          'figure.figsize': (16, 12),\n",
    "          'lines.linewidth': 3,\n",
    "          'axes.labelsize': 24,\n",
    "          'axes.titlesize':24,\n",
    "          'axes.linewidth':3,\n",
    "          'boxplot.boxprops.linewidth':3.0,\n",
    "          'boxplot.capprops.linewidth': 3.0,\n",
    "          'boxplot.flierprops.linewidth': 3.0,\n",
    "          'boxplot.medianprops.color': 'C0',\n",
    "          'boxplot.medianprops.linestyle': '-',\n",
    "          'boxplot.medianprops.linewidth': 3.0,\n",
    "          'xtick.labelsize':20,\n",
    "          'ytick.labelsize':20}\n",
    "plt.rcParams.update(params)\n",
    "plt.style.use('seaborn-colorblind')\n",
    "plt.rcParams['pdf.fonttype'] = 42"
   ]
  },
  {
   "cell_type": "code",
   "execution_count": 2,
   "metadata": {},
   "outputs": [
    {
     "data": {
      "text/plain": [
       "array(['PC_OD', 'PJ_OD', 'BV_OD', 'BF_OD', 'BO_OD', 'BT_OD', 'BC_OD',\n",
       "       'BY_OD', 'BU_OD', 'DP_OD', 'BL_OD', 'BA_OD', 'BP_OD', 'CA_OD',\n",
       "       'EL_OD', 'FP_OD', 'CH_OD', 'AC_OD', 'BH_OD', 'CG_OD', 'ER_OD',\n",
       "       'RI_OD', 'CC_OD', 'DL_OD', 'DF_OD', 'Butyrate', 'Acetate',\n",
       "       'Lactate', 'Succinate'], dtype=object)"
      ]
     },
     "execution_count": 2,
     "metadata": {},
     "output_type": "execute_result"
    }
   ],
   "source": [
    "models = ['RNN', 'MiRNN']\n",
    "n_splits = [20]\n",
    "n_trials = 10\n",
    "\n",
    "# specify species and metabolite names \n",
    "df = pd.read_csv(\"../Data/2021_02_19_MultifunctionalDynamicData.csv\")\n",
    "sys_vars = df.columns.values[2:]\n",
    "species = df.columns.values[2:-4]\n",
    "metabolites =  df.columns.values[-4:]\n",
    "controls = []\n",
    "system_variables = np.concatenate((np.array(species), np.array(metabolites)))\n",
    "system_variables"
   ]
  },
  {
   "cell_type": "code",
   "execution_count": 3,
   "metadata": {},
   "outputs": [],
   "source": [
    "score_dict = {}\n",
    "\n",
    "for model in models:\n",
    "    \n",
    "    # for each k fold \n",
    "    for n_split in n_splits:\n",
    "        \n",
    "        # for each output\n",
    "        for i, variable in enumerate(sys_vars):\n",
    "        \n",
    "            # record performance from each trial\n",
    "            R_scores = []\n",
    "            mse_values = []\n",
    "        \n",
    "            # for each k-fold trial \n",
    "            for k in range(n_trials):\n",
    "\n",
    "                df_kfold = pd.read_csv(f\"Kfold/{model}_{n_split}_fold_{k+1}.csv\")\n",
    "                y = df_kfold[variable + ' true'].values\n",
    "\n",
    "                # remove known initial condition when comparing measured vs. predicted\n",
    "                time_zero = np.in1d(df_kfold.Time.values, 0.)\n",
    "                y = y[~time_zero]    \n",
    "                y_pred = df_kfold[variable + ' pred'].values[~time_zero]\n",
    "                \n",
    "                # remove known zeros\n",
    "                # inds_zero = y == 0\n",
    "                # y = y[~inds_zero]\n",
    "                # y_pred = y_pred[~inds_zero]\n",
    "\n",
    "                # record Pearson correlation coefficient (R)\n",
    "                R_scores.append(linregress(y, y_pred).rvalue)\n",
    "                mse_values.append(mse(y, y_pred))\n",
    "\n",
    "            # save scores\n",
    "            score_dict[model + f\" {variable} {n_split} R\"] = R_scores\n",
    "            score_dict[model + f\" {variable} {n_split} mse\"] = mse_values"
   ]
  },
  {
   "cell_type": "code",
   "execution_count": 4,
   "metadata": {},
   "outputs": [
    {
     "data": {
      "image/png": "[encoded data removed]",
      "text/plain": [
       "<Figure size 2520x360 with 1 Axes>"
      ]
     },
     "metadata": {
      "needs_background": "light"
     },
     "output_type": "display_data"
    },
    {
     "name": "stdout",
     "output_type": "stream",
     "text": [
      "['FP_OD' 'EL_OD' 'BH_OD' 'BL_OD' 'CA_OD' 'CC_OD' 'BV_OD' 'BP_OD' 'RI_OD'\n",
      " 'BU_OD' 'DP_OD' 'PC_OD' 'CH_OD' 'CG_OD' 'DL_OD' 'BY_OD' 'BA_OD' 'DF_OD'\n",
      " 'ER_OD' 'AC_OD' 'BT_OD' 'BO_OD' 'PJ_OD' 'BC_OD' 'BF_OD']\n"
     ]
    }
   ],
   "source": [
    "for n_split in n_splits:\n",
    "    \n",
    "    scores = []\n",
    "    medians = []\n",
    "    heights = []\n",
    "    errs = []\n",
    "    positions = []\n",
    "    labels = []\n",
    "    colors = []\n",
    "    position_counter = 0\n",
    "\n",
    "    # sort species \n",
    "    for variable in species:\n",
    "        medians.append(np.median(score_dict[f'MiRNN {variable} {n_split} R']))\n",
    "    arangement = np.argsort(medians)\n",
    "    \n",
    "    for variable in species[arangement]:\n",
    "        for model in models:\n",
    "            middle = np.median(score_dict[f'{model} {variable} {n_split} R'])\n",
    "            heights.append(middle)\n",
    "            quantiles = np.quantile(score_dict[f'{model} {variable} {n_split} R'], [.25, .75])\n",
    "            errs.append([middle-quantiles[0], quantiles[-1]-middle])\n",
    "            positions.append(position_counter)\n",
    "            position_counter+=1\n",
    "            labels.append(model)\n",
    "        colors += ['C1', 'C2']\n",
    "        position_counter+=1\n",
    "        \n",
    "    # set plot parameters\n",
    "    params = {'xtick.labelsize':10,\n",
    "              'ytick.labelsize':12}\n",
    "    plt.rcParams.update(params)    \n",
    "\n",
    "    plt.figure(figsize=(35, 5))\n",
    "    plt.bar(x=positions,\n",
    "            height=heights, \n",
    "            yerr= np.stack(errs).T,\n",
    "            capsize=3,\n",
    "            tick_label=labels,\n",
    "            color=colors)\n",
    "\n",
    "    plt.ylabel(r\"$R$\", fontsize=12)\n",
    "    plt.xticks(rotation=-45)\n",
    "    plt.title(\"Species predictions\")\n",
    "    plt.ylim([0, 1.])\n",
    "    plt.savefig(\"species_predictions.pdf\", dpi=300)\n",
    "    plt.show()\n",
    "print(species[arangement])"
   ]
  },
  {
   "cell_type": "code",
   "execution_count": 5,
   "metadata": {},
   "outputs": [
    {
     "data": {
      "image/png": "[encoded data removed]",
      "text/plain": [
       "<Figure size 576x360 with 1 Axes>"
      ]
     },
     "metadata": {
      "needs_background": "light"
     },
     "output_type": "display_data"
    },
    {
     "name": "stdout",
     "output_type": "stream",
     "text": [
      "['Acetate' 'Succinate' 'Lactate' 'Butyrate']\n"
     ]
    }
   ],
   "source": [
    "for n_split in n_splits:\n",
    "    \n",
    "    scores = []\n",
    "    medians = []\n",
    "    heights = []\n",
    "    errs = []\n",
    "    positions = []\n",
    "    labels = []\n",
    "    colors = []\n",
    "    position_counter = 0\n",
    "\n",
    "    # sort species \n",
    "    for variable in metabolites:\n",
    "        medians.append(np.median(score_dict[f'MiRNN {variable} {n_split} R']))\n",
    "    arangement = np.argsort(medians)\n",
    "    \n",
    "    for variable in metabolites[arangement]:\n",
    "        for model in models:\n",
    "            middle = np.median(score_dict[f'{model} {variable} {n_split} R'])\n",
    "            heights.append(middle)\n",
    "            quantiles = np.quantile(score_dict[f'{model} {variable} {n_split} R'], [.25, .75])\n",
    "            errs.append([middle-quantiles[0], quantiles[-1]-middle])\n",
    "            positions.append(position_counter)\n",
    "            position_counter+=1\n",
    "            labels.append(model)\n",
    "        colors += ['C1', 'C2']\n",
    "        position_counter+=1\n",
    "        \n",
    "    # set plot parameters\n",
    "    params = {'xtick.labelsize':10,\n",
    "              'ytick.labelsize':12}\n",
    "    plt.rcParams.update(params)    \n",
    "\n",
    "    plt.figure(figsize=(8, 5))\n",
    "    plt.bar(x=positions,\n",
    "            height=heights, \n",
    "            yerr= np.stack(errs).T,\n",
    "            capsize=3,\n",
    "            tick_label=labels,\n",
    "            color=colors)\n",
    "\n",
    "    plt.ylabel(r\"$R$\", fontsize=12)\n",
    "    plt.xticks(rotation=-45)\n",
    "    plt.title(\"Metabolite predictions\")\n",
    "    plt.ylim([.75, 1.])\n",
    "    plt.savefig(\"metabolite_predictions.pdf\", dpi=300)\n",
    "    plt.show()\n",
    "print(metabolites[arangement])"
   ]
  },
  {
   "cell_type": "code",
   "execution_count": 6,
   "metadata": {},
   "outputs": [
    {
     "data": {
      "image/png": "[encoded data removed]",
      "text/plain": [
       "<Figure size 576x360 with 1 Axes>"
      ]
     },
     "metadata": {
      "needs_background": "light"
     },
     "output_type": "display_data"
    }
   ],
   "source": [
    "metric = \"R\"\n",
    "avg_model_scores = []\n",
    "all_model_scores = []\n",
    "errs = []\n",
    "\n",
    "for model in models:\n",
    "    species_scores = []\n",
    "    for variable in system_variables:\n",
    "        species_scores.append(np.median(score_dict[f\"{model} {variable} {20} {metric}\"]))\n",
    "    all_model_scores.append(species_scores)\n",
    "    quantiles = np.quantile(species_scores, [.25, .5, .75])\n",
    "    avg_model_scores.append(quantiles[1])\n",
    "    errs.append([quantiles[1]-quantiles[0], quantiles[-1]-quantiles[1]])\n",
    "\n",
    "# set plot parameters\n",
    "params = {'xtick.labelsize':10,\n",
    "          'ytick.labelsize':12}\n",
    "plt.rcParams.update(params)    \n",
    "\n",
    "plt.figure(figsize=(8, 5))\n",
    "plt.bar(x=[0,1],\n",
    "        height= avg_model_scores, \n",
    "        yerr  = np.stack(errs).T,\n",
    "        capsize=3,\n",
    "        tick_label=models,\n",
    "        color=['C1','C2'])\n",
    "\n",
    "plt.ylabel(r\"$R$\", fontsize=12)\n",
    "plt.xticks(rotation=-45)\n",
    "plt.title(\"Species predictions\")\n",
    "#plt.ylim([0.5, 1.0])\n",
    "plt.show()"
   ]
  },
  {
   "cell_type": "code",
   "execution_count": 7,
   "metadata": {},
   "outputs": [
    {
     "data": {
      "text/plain": [
       "Ttest_relResult(statistic=-4.743817792106455, pvalue=5.586749712598507e-05)"
      ]
     },
     "execution_count": 7,
     "metadata": {},
     "output_type": "execute_result"
    }
   ],
   "source": [
    "# compare RNN to MiRNN\n",
    "ttest_rel(all_model_scores[0], all_model_scores[1])"
   ]
  },
  {
   "cell_type": "markdown",
   "metadata": {},
   "source": [
    "# Compare predicted Log-Likelihood "
   ]
  },
  {
   "cell_type": "code",
   "execution_count": 8,
   "metadata": {},
   "outputs": [
    {
     "data": {
      "text/html": [
       "<div>\n",
       "<style scoped>\n",
       "    .dataframe tbody tr th:only-of-type {\n",
       "        vertical-align: middle;\n",
       "    }\n",
       "\n",
       "    .dataframe tbody tr th {\n",
       "        vertical-align: top;\n",
       "    }\n",
       "\n",
       "    .dataframe thead th {\n",
       "        text-align: right;\n",
       "    }\n",
       "</style>\n",
       "<table border=\"1\" class=\"dataframe\">\n",
       "  <thead>\n",
       "    <tr style=\"text-align: right;\">\n",
       "      <th></th>\n",
       "      <th>k</th>\n",
       "      <th>LL Pred</th>\n",
       "      <th>LL Fix</th>\n",
       "    </tr>\n",
       "  </thead>\n",
       "  <tbody>\n",
       "    <tr>\n",
       "      <th>0</th>\n",
       "      <td>1</td>\n",
       "      <td>5323.381318</td>\n",
       "      <td>3564.068989</td>\n",
       "    </tr>\n",
       "    <tr>\n",
       "      <th>1</th>\n",
       "      <td>2</td>\n",
       "      <td>5223.874663</td>\n",
       "      <td>3216.109894</td>\n",
       "    </tr>\n",
       "    <tr>\n",
       "      <th>2</th>\n",
       "      <td>3</td>\n",
       "      <td>5330.524202</td>\n",
       "      <td>3039.050770</td>\n",
       "    </tr>\n",
       "    <tr>\n",
       "      <th>3</th>\n",
       "      <td>4</td>\n",
       "      <td>5513.791971</td>\n",
       "      <td>3509.984490</td>\n",
       "    </tr>\n",
       "    <tr>\n",
       "      <th>4</th>\n",
       "      <td>5</td>\n",
       "      <td>5181.545386</td>\n",
       "      <td>2818.775757</td>\n",
       "    </tr>\n",
       "    <tr>\n",
       "      <th>5</th>\n",
       "      <td>6</td>\n",
       "      <td>5316.343279</td>\n",
       "      <td>3598.221280</td>\n",
       "    </tr>\n",
       "    <tr>\n",
       "      <th>6</th>\n",
       "      <td>7</td>\n",
       "      <td>5402.084857</td>\n",
       "      <td>3321.086892</td>\n",
       "    </tr>\n",
       "    <tr>\n",
       "      <th>7</th>\n",
       "      <td>8</td>\n",
       "      <td>5149.977872</td>\n",
       "      <td>3244.977467</td>\n",
       "    </tr>\n",
       "    <tr>\n",
       "      <th>8</th>\n",
       "      <td>9</td>\n",
       "      <td>5315.942938</td>\n",
       "      <td>3379.546425</td>\n",
       "    </tr>\n",
       "    <tr>\n",
       "      <th>9</th>\n",
       "      <td>10</td>\n",
       "      <td>5297.453216</td>\n",
       "      <td>3376.134984</td>\n",
       "    </tr>\n",
       "  </tbody>\n",
       "</table>\n",
       "</div>"
      ],
      "text/plain": [
       "    k      LL Pred       LL Fix\n",
       "0   1  5323.381318  3564.068989\n",
       "1   2  5223.874663  3216.109894\n",
       "2   3  5330.524202  3039.050770\n",
       "3   4  5513.791971  3509.984490\n",
       "4   5  5181.545386  2818.775757\n",
       "5   6  5316.343279  3598.221280\n",
       "6   7  5402.084857  3321.086892\n",
       "7   8  5149.977872  3244.977467\n",
       "8   9  5315.942938  3379.546425\n",
       "9  10  5297.453216  3376.134984"
      ]
     },
     "execution_count": 8,
     "metadata": {},
     "output_type": "execute_result"
    }
   ],
   "source": [
    "LL_df = pd.read_csv(\"MiRNN_LL_results.csv\")\n",
    "LL_df"
   ]
  },
  {
   "cell_type": "code",
   "execution_count": 9,
   "metadata": {},
   "outputs": [
    {
     "data": {
      "text/plain": [
       "array([[5242.26930133, 3223.3267876 ],\n",
       "       [5316.14310829, 3348.61093772],\n",
       "       [5328.73848061, 3477.3749739 ]])"
      ]
     },
     "execution_count": 9,
     "metadata": {},
     "output_type": "execute_result"
    }
   ],
   "source": [
    "LL_stats = np.quantile(LL_df[['LL Pred', 'LL Fix']].values, [.25, .5, .75], axis=0)\n",
    "LL_errs  = np.zeros([2,2])\n",
    "LL_errs[0] = LL_stats[1] - LL_stats[0]\n",
    "LL_errs[1] = LL_stats[2] - LL_stats[1]\n",
    "LL_stats"
   ]
  },
  {
   "cell_type": "code",
   "execution_count": 10,
   "metadata": {},
   "outputs": [
    {
     "data": {
      "image/png": "[encoded data removed]",
      "text/plain": [
       "<Figure size 576x360 with 1 Axes>"
      ]
     },
     "metadata": {
      "needs_background": "light"
     },
     "output_type": "display_data"
    }
   ],
   "source": [
    "# set plot parameters\n",
    "params = {'xtick.labelsize':10,\n",
    "          'ytick.labelsize':12}\n",
    "plt.rcParams.update(params)    \n",
    "\n",
    "heights = LL_df[['LL Pred', 'LL Fix']].values\n",
    "\n",
    "plt.figure(figsize=(8, 5))\n",
    "plt.bar(x=[0,1],\n",
    "        height= LL_stats[1, :], \n",
    "        yerr  = LL_errs,\n",
    "        capsize=5,\n",
    "        tick_label=['Predicted\\n uncertainty', 'Fixed\\n uncertainty'],\n",
    "        color=['C0','C1'])\n",
    "\n",
    "plt.ylabel(r\"Log-Likelihood\", fontsize=18)\n",
    "plt.yticks(fontsize=16)\n",
    "plt.xticks(fontsize=18, rotation=-45)\n",
    "#plt.title(\"Species predictions\")\n",
    "plt.ylim([3000, 6000])\n",
    "# plt.savefig(\"Results/LL_comparison.pdf\", dpi=300)\n",
    "plt.show()"
   ]
  }
 ],
 "metadata": {
  "kernelspec": {
   "display_name": "Python 3",
   "language": "python",
   "name": "python3"
  },
  "language_info": {
   "codemirror_mode": {
    "name": "ipython",
    "version": 3
   },
   "file_extension": ".py",
   "mimetype": "text/x-python",
   "name": "python",
   "nbconvert_exporter": "python",
   "pygments_lexer": "ipython3",
   "version": "3.8.3"
  }
 },
 "nbformat": 4,
 "nbformat_minor": 5
}
