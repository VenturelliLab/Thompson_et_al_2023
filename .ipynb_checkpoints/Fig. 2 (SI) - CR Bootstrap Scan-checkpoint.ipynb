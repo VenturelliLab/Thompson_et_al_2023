{
 "cells": [
  {
   "cell_type": "code",
   "execution_count": null,
   "metadata": {},
   "outputs": [],
   "source": [
    "import numpy as np\n",
    "import pandas as pd\n",
    "import matplotlib.pyplot as plt\n",
    "from scipy.stats import linregress\n",
    "from scipy.stats import multivariate_normal as mvn\n",
    "\n",
    "from cr.mcr import *\n",
    "\n",
    "from sklearn.metrics import r2_score\n",
    "from sklearn.metrics import mean_squared_error as mse\n",
    "\n",
    "# set plot parameters\n",
    "params = {'legend.fontsize': 18,\n",
    "          'figure.figsize': (16, 12),\n",
    "          'lines.linewidth': 4,\n",
    "          'axes.labelsize': 24,\n",
    "          'axes.titlesize':24,\n",
    "          'axes.linewidth':5,\n",
    "          'xtick.labelsize':20,\n",
    "          'ytick.labelsize':20}\n",
    "plt.rcParams.update(params)\n",
    "plt.style.use('seaborn-colorblind')\n",
    "plt.rcParams['pdf.fonttype'] = 42\n",
    "\n",
    "np.random.seed(123)"
   ]
  },
  {
   "cell_type": "markdown",
   "metadata": {},
   "source": [
    "# Set parameters of script"
   ]
  },
  {
   "cell_type": "code",
   "execution_count": null,
   "metadata": {},
   "outputs": [],
   "source": [
    "# number of times to randomly pull training samples \n",
    "n_trials = 10"
   ]
  },
  {
   "cell_type": "markdown",
   "metadata": {},
   "source": [
    "# Import data"
   ]
  },
  {
   "cell_type": "code",
   "execution_count": null,
   "metadata": {},
   "outputs": [],
   "source": [
    "df = pd.read_csv(\"Data/2021_02_19_MultifunctionalDynamicData.csv\")\n",
    "\n",
    "all_experiments = df.Experiments.values\n",
    "unique_experiments = np.unique(all_experiments)\n",
    "n_conditions = len(unique_experiments)\n",
    "\n",
    "df.head()"
   ]
  },
  {
   "cell_type": "markdown",
   "metadata": {},
   "source": [
    "### Define which variables are species and which are metabolites"
   ]
  },
  {
   "cell_type": "code",
   "execution_count": null,
   "metadata": {},
   "outputs": [],
   "source": [
    "# specify species and metabolite names \n",
    "species = df.columns.values[2:-4]\n",
    "metabolites =  df.columns.values[-4:]\n",
    "controls = []\n",
    "system_variables = np.concatenate((np.array(species), np.array(metabolites)))\n",
    "system_variables"
   ]
  },
  {
   "cell_type": "code",
   "execution_count": null,
   "metadata": {
    "scrolled": true
   },
   "outputs": [],
   "source": [
    "# for each number of samples to train on \n",
    "for n_train in [1, 5, 10, 15, 20, 25, 30, 35, 40, 45, 50, 55, 60, 65, 70]:\n",
    "\n",
    "    # perform k-fold x-validation several times (n_trials) with randomized partitions of data\n",
    "    for k in range(n_trials):\n",
    "\n",
    "        # random set of n_train experiments for training \n",
    "        train_exps = np.random.choice(unique_experiments, n_train, replace=False)\n",
    "        train_inds = np.in1d(all_experiments, train_exps)\n",
    "        \n",
    "        # pull train and test dataframes\n",
    "        train_df = df.iloc[train_inds].copy()\n",
    "        test_df  = df.iloc[~train_inds].copy()\n",
    "\n",
    "        # scale metabolites based on training data values \n",
    "        train_df_scaled = train_df.copy()\n",
    "        test_df_scaled  = test_df.copy()\n",
    "        train_df_scaled[metabolites] /= train_df[metabolites].max()\n",
    "        test_df_scaled[metabolites]  /= train_df[metabolites].max()\n",
    "        \n",
    "        # init model \n",
    "        model = CR(dataframe=train_df_scaled, species=species, resources=metabolites, r0=1.)\n",
    "\n",
    "        # fit to data \n",
    "        model.fit(lr=1e-1, map_tol=1e-3, evd_tol=1e-3)\n",
    "\n",
    "        # make predictions\n",
    "        df_boot_cr = model.predict_df(test_df_scaled, species, metabolites)\n",
    "\n",
    "        # scale back resources\n",
    "        for i, variable in enumerate(metabolites):\n",
    "            df_boot_cr[variable + \" true\"] *= train_df[variable].max()\n",
    "            df_boot_cr[variable + \" pred\"] *= train_df[variable].max()\n",
    "            df_boot_cr[variable + \" stdv\"] *= train_df[variable].max()\n",
    "\n",
    "        # save kfold predictions\n",
    "        df_boot_cr.to_csv(f\"Fig2/Bootstrap/MCR_{n_train}samples_trial_{k+1}.csv\", index=False)"
   ]
  }
 ],
 "metadata": {
  "kernelspec": {
   "display_name": "Python 3 (ipykernel)",
   "language": "python",
   "name": "python3"
  },
  "language_info": {
   "codemirror_mode": {
    "name": "ipython",
    "version": 3
   },
   "file_extension": ".py",
   "mimetype": "text/x-python",
   "name": "python",
   "nbconvert_exporter": "python",
   "pygments_lexer": "ipython3",
   "version": "3.9.13"
  }
 },
 "nbformat": 4,
 "nbformat_minor": 4
}
